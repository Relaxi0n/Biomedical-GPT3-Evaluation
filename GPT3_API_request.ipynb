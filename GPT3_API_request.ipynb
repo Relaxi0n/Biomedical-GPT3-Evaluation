{
 "cells": [
  {
   "cell_type": "code",
   "execution_count": 422,
   "metadata": {
    "collapsed": true
   },
   "outputs": [],
   "source": [
    "import openai\n",
    "import csv\n",
    "import ast\n",
    "import collections"
   ]
  },
  {
   "cell_type": "code",
   "execution_count": 738,
   "outputs": [
    {
     "name": "stdout",
     "output_type": "stream",
     "text": [
      "Column names are TEXT, DISEASE, TREATMENT\n",
      "Processed 830 lines.\n"
     ]
    }
   ],
   "source": [
    "prompt=\"Please summarize the diseases and treatments mentioned.\\n\\nTo study the safety and efficacy of methylphenidate in children with the dual diagnosis of epilepsy and attention deficit hyperactivity disorder ( ADHD ) .\\nDisease: epilepsy ; attention deficit hyperactivity disorder ( ADHD )\\nTreatment:  methylphenidate\\n\\nMethylphenidate is effective in treating children with epilepsy and ADHD and safe in children who are seizure free .\\nDisease: epilepsy ; ADHD\\nTreatment:  Methylphenidate\\n\\nAntiplatelet therapy with aspirin and systematic anticoagulation with warfarin reduce cardiovascular morbidity and mortality after myocardial infarction when given alone .\\nDisease: cardiovascular morbidity and mortality after myocardial infarction\\nTreatment: Antiplatelet therapy with aspirin and systematic anticoagulation with warfarin\\n\\nLow , fixed-dose warfarin ( 1 mg or 3 mg ) combined with low-dose aspirin ( 80 mg ) in patients who have had myocardial infarction does not provide clinical benefit beyond that achievable with 160 mg aspirin monotherapy .\\nDisease:  myocardial infarction\\nTreatment: warfarin ( 1 mg or 3 mg ) combined with low-dose aspirin ( 80 mg ) ; aspirin monotherapy\\n\\nAt 293 sites , we randomly assigned 8803 patients who had had myocardial infarction , treatment with 160 mg aspirin , 3 mg warfarin with 80 mg aspirin , or 1 mg warfarin with 80 mg aspirin .\\nDisease: myocardial infarction\\nTreatment: 160 mg aspirin ; 3 mg warfarin with 80 mg aspirin ; 1 mg warfarin with 80 mg aspirin\"\n",
    "sents=[]\n",
    "real_dis=[]\n",
    "real_treat=[]\n",
    "\n",
    "with open('BioText_prepared.csv') as csv_file:\n",
    "    csv_reader = csv.reader(csv_file, delimiter=',')\n",
    "    line_count = 0\n",
    "    for row in csv_reader:\n",
    "        if line_count == 0:\n",
    "            print(f'Column names are {\", \".join(row)}')\n",
    "            line_count += 1\n",
    "        else:\n",
    "            sents.append(row[0])\n",
    "            real_dis.append(ast.literal_eval(row[1].lower()))\n",
    "            real_treat.append(ast.literal_eval(row[2].lower()))\n",
    "            line_count += 1\n",
    "    print(f'Processed {line_count} lines.')"
   ],
   "metadata": {
    "collapsed": false,
    "pycharm": {
     "name": "#%% PreProcess\n"
    }
   }
  },
  {
   "cell_type": "code",
   "execution_count": 739,
   "outputs": [],
   "source": [
    "fin_pmt=[]\n",
    "\n",
    "# Prepare all the prompts to send\n",
    "for sent in sents[5:]:\n",
    "    fin_pmt.append(prompt + \"\\n\\n\" + sent + '\\nDisease:')\n"
   ],
   "metadata": {
    "collapsed": false,
    "pycharm": {
     "name": "#%%\n"
    }
   }
  },
  {
   "cell_type": "code",
   "execution_count": 660,
   "outputs": [],
   "source": [
    "openai.api_key = \"<YOUR_KEY>\"\n",
    "response=[]\n",
    "\n",
    "for cur_pmt in fin_pmt: #todo\n",
    "    response.append(openai.Completion.create(\n",
    "      engine=\"curie\",\n",
    "      prompt= cur_pmt,\n",
    "      temperature=0,\n",
    "      max_tokens=50,\n",
    "      top_p=1,\n",
    "      frequency_penalty=0,\n",
    "      presence_penalty=0,\n",
    "      stop=[\"\\n\\n\"]\n",
    "    ))"
   ],
   "metadata": {
    "collapsed": false,
    "pycharm": {
     "name": "#%% Query Execution\n"
    }
   }
  },
  {
   "cell_type": "code",
   "execution_count": 741,
   "outputs": [
    {
     "name": "stdout",
     "output_type": "stream",
     "text": [
      "[['unstable angina or non-q-wave myocardial infarction'], ['coronary-artery disease'], ['cervical carcinoma'], ['myofascial trigger points of upper trapezius muscle'], ['myofascial trigger point pain'], ['obesity'], ['essential hypertension'], ['echinococcus multilocularis'], ['foot infections in diabetic patients'], ['foot infection'], ['coronary-artery thrombi'], ['acute myocardial infarction'], ['rheumatoid arthritis'], [\"parkinson 's disease\"], [\"parkinson 's disease\"], ['primary cataract surgery with pc iol implantation'], ['sore throat'], ['sore throat'], ['sore throat'], ['sore throat'], ['postoperative pain relief'], ['stress urinary incontinence'], ['stress urinary incontinence'], ['stress urinary incontinence'], ['stress urinary incontinence'], ['primary infertility'], ['primary infertility'], ['gunshot wounds to the abdomen'], ['major pulmonary embolism'], ['pulmonary embolism'], ['malignant pleural mesothelioma'], [\"parkinson 's disease\"], ['non-obstructive azoospermia'], ['diabetes 2'], ['cardiovascular diseases'], ['hypertension'], ['acute migraine'], ['post-haemorrhoidectomy bleeding'], ['tetanus'], ['hyperthyroidism'], ['allergic diseases'], ['complicated cancer of the large bowel'], ['stone disease'], ['urinary stones'], ['leukemia'], ['malformations of the bones of the foot'], ['kwashiorkor'], ['cavernous hemangiomas'], ['hiv-1 infection'], ['verruca vulgaris'], ['colorectal cancer'], ['gastrointestinal tumours in the elderly'], ['myocardial infarction'], ['coronary artery disease'], ['cervical cancer'], ['anemia of end-stage renal disease'], ['neutropenia'], ['hypertension'], ['echinococcus multilocularis'], ['diabetic foot infection'], ['myocardial infarction'], ['sore throat'], ['cancer'], ['recurrent corneal erosions'], ['arthrodesis of the first metatarsophalangeal joint'], [\"parkinson 's disease\"], ['bronchial asthma'], ['female stress urinary incontinence'], ['accidental hypothermia'], ['breech presentation at term'], ['parotid lump'], ['advanced epithelial ovarian cancer'], [\"parkinson 's disease\"], ['colorectal cancer'], ['emphysema'], ['cancer'], ['non-obstructive azoospermia'], ['experimental arthritis'], ['paraphilia'], ['postoperative ileus'], ['autism'], ['cardiac insufficiency'], ['hypertension'], ['serotonin agonists'], ['soft tissue principles of resection and reconstructive plastic procedures'], ['soft tissue sarcoma'], ['soft tissue sarcoma'], ['superficial hemosiderosis of the central nervous system'], ['common cold'], ['purpura fulminans'], [' photodamage'], ['constipation'], ['respiratory failure'], ['molluscum contagiosum virus'], ['choroidal neovascularization'], ['refractory arrest'], ['hiccups'], [\"eisenmenger 's syndrome\"], ['esophageal cancer'], [\"alzheimer 's disease\"], ['infection'], ['unstable angina'], [\"non-hodgkin 's lymphoma\"], ['idiopathic membranous nephropathy'], ['peripheral arterial occlusive disease'], ['refractory esophageal stricture'], ['severe psoriasis'], ['merkel cell carcinoma'], ['asthma'], ['cardiac operations'], ['endoluminal hemoptysis and airway obstruction'], ['squamous cell lung carcinoma with sarcoidosis'], ['non-small-cell lung carcinoma'], ['mrcc'], ['non-seminomatous germ-cell tumors'], ['non-bulky metastatic seminoma'], ['cancer'], ['lung metastasis'], ['prostate cancer'], ['orthotopic tumors'], ['extra-thoracic micrometastases'], ['sblc'], ['non-small cell lung cancer'], ['colorectal cancer'], ['non-small-cell lung cancer ( nsclc )'], ['nsclc'], ['recurrent adenocarcinoma of the cervix'], ['cervical adenocarcinoma'], ['paranasal sinusitis'], ['common cold'], [' colds'], ['influenza a virus'], ['acute and chronic thoracic and abdominal pain'], ['pleuritic pain'], ['pain'], ['pleuritic pain'], ['hepatic neoplasms'], ['bile duct cancer'], ['lymph node and peritoneum metastases'], ['acetaminophen overdose'], ['drug-induced hepatitis'], ['esophagorespiratory fistulas'], ['endocarditis , meningitis , infection in neutropenic patients'], ['fungal infections'], ['inflammatory skin diseases'], ['atopic dermatitis'], ['bronchiolitis obliterans occurring as a late manifestation of lupus erythematosus'], ['aecb'], ['rheumatoid arthritis', 'primary biliary cirrhosis', 'scleroderma', 'fibrotic lung diseases', 'progressive systemic sclerosis'], ['non-small cell lung cancer ( nsclc )'], ['n2 nsclc'], ['nsclc'], ['unresectable stage iii nsclc'], ['small cell lung cancer'], ['advanced non-small cell lung cancer'], ['mplc'], ['small cell lung cancer ( sclc )'], ['sclc'], ['nsclc'], ['nsclc'], ['nsclc'], ['bronchogenic carcinoma'], ['bronchogenic carcinoma'], ['acute nd chronic lung allograft rejection'], ['bos'], ['bos'], ['early bos'], ['locally advanced non-small-cell lung cancer ( la-nsclc )'], ['sclc'], ['acute lymphoblastic leukemia'], ['poor response to induction chemotherapy'], ['radiation-induced myelopathy'], ['radiation-induced spinal cord injury'], ['radiation-induced myelopathy'], ['lung cancer', 'esophageal cancer'], ['gh-producing tumors'], ['small cell lung cancer'], ['previously untreated limited small cell lung cancer'], ['limited small cell lung cancer'], ['small cell lung cancer'], ['n 2 nsclc'], ['n 2 nsclc'], ['asthma'], ['non-small cell lung cancer ( nsclc )'], ['locally advanced and metastatic non-small-cell lung cancer ( nsclc )'], ['malignant pleural effusion from nsclc'], ['nsclc'], ['malignant pleural effusion from nsclc'], ['small-cell lung cancer'], ['lung cancer'], ['lung cancer'], ['osteosarcoma of the extremities'], ['osteosarcoma of the extremities'], ['intraluminal early-stage cancer'], ['non-small cell lung cancer'], ['neuroendocrine neoplasms of the lung'], ['neuroendocrine carcinoma'], ['high-grade neuroendocrine tumors of the lung'], ['non-small-cell lung cancer ( nsclc )'], ['supraclavicular node metastases in nsclc'], ['nsclc'], ['nsclcm'], ['esophageal and tracheobronchial stenoses'], ['esophageal cancer', 'tracheobronchial cancer'], ['esophageal stenosis'], ['tracheobronchial stenosis'], ['dysphagia and respiratory symptoms'], ['esophageal and tracheobronchial stenosis'], ['esophageal cancer'], ['osteogenic sarcoma'], ['osteogenic sarcoma'], ['lung carcinoma'], ['lung carcinoma'], ['malignancy'], ['lung carcinoma'], ['lung cancer'], ['lung carcinoma'], ['solitary pulmonary metastasis'], ['lung carcinoma'], ['multiple cerebral metastases'], ['gks'], ['gks'], ['cerebral metastases from nonsmall cell cancer'], ['nsclc'], ['multiple cerebral metastases'], ['breast , melanoma , renal cell , and ovarian carcinoma brain metastasis'], ['colorectal carcinoma'], ['peripheral colorectal pulmonary metastases'], ['colorectal metastases'], ['colorectal metastases'], ['nsclc'], ['limited-stage small-cell carcinoma of the lung'], ['small-cell carcinoma'], ['brain metastases from nsclc'], ['nsclc'], ['brain metastases from nsclc'], ['metastatic melanoma'], ['small cell lung cancer ( sclc )'], ['metastatic colorectal cancer'], ['liver metastases'], ['liver metastases'], ['ovarian cancer'], ['platinum-pretreated ovarian cancer'], [\"non-hodgkin 's lymphoma\", 'breast cancer', 'mesothelioma', 'non-small cell lung cancer'], ['metastatic colorectal cancer'], ['platinum-pretreated ovarian cancer'], ['nsclc'], ['bronchogenic carcinoma'], ['carcinoma of the lung'], ['non-small cell lung cancer'], ['sclc'], ['sclc'], ['squamous cell carcinoma in the residual left lung'], ['lung cancer with chest wall invasion'], ['nsclc'], ['primary lung cancer'], ['primary lung cancer'], ['small cell lung cancer ( sclc )'], ['n2 tumors'], ['non-small cell lung cancer ( nsclc )'], ['nsclc'], ['stage iii nsclc'], ['nsclc'], ['small cell lung cancer'], ['small cell lung cancer in complete remission'], ['small cell lung cancer in complete remission'], ['non-small cell lung cancer'], ['nsclc'], ['small-cell lung cancer'], ['small-cell lung cancer'], ['small-cell lung cancer'], ['small-cell lung cancer'], ['small-cell lung cancer ( sclc )'], ['sclc'], ['small-cell lung cancer'], ['resistant sclc'], ['lung cancer'], ['lung cancer'], ['lung cancer'], ['lung cancer'], ['small cell lung cancer'], ['symptomatic metastases in bone or brain'], ['intrathoracic relapse and severe obstruction of main bronchus and/or superior caval vein'], ['sclc'], ['sclc'], ['colon cancer'], ['lung cancer'], ['primary cancer of the lung'], ['metastatic transitional cell carcinoma of the bladder and renal failure'], ['nonsmall cell lung carcinoma ( nsclc )'], ['nsclc'], ['non-small-cell lung cancer'], ['non -- small-cell lung cancer'], ['non -- small-cell lung cancer'], ['small-cell lung cancer ( sclc )'], ['sclc'], ['small cell lung cancer ( sclc )'], ['sclc'], ['metastasis'], ['pulmonary hypertension'], ['ld sclc'], ['ld sclc'], ['neutropenia'], ['ovarian cancer'], ['haematological , renal and neurological treatment delays , treatment discontinuation and days in hospital related to these adverse events'], ['lung cancer'], ['myelodysplastic syndrome'], ['myelodysplastic syndrome'], ['lung cancer'], ['carbon monoxide poisoning'], ['status epilepticus'], ['baclofen overdose'], ['baclofen overdose'], ['acute myocardial infarction'], ['anasarca and acute renal failure'], ['acute renal dysfunction'], ['end-stage renal disease'], ['profound neuromuscular blockade'], ['neuromuscular blockade'], ['psoriasis vulgaris'], ['psoriasis'], ['psoriasis'], ['psoriasis'], ['erythema'], ['erythema'], ['retinal dialysis', 'lens dislocation requiring extraction'], ['rheumatoid arthritis ( ra )'], ['rheumatoid arthritis'], ['rheumatoid arthritis ( ra )'], ['rheumatoid arthritis'], ['rheumatoid arthritis'], ['ureteric experience'], ['ureteric calculi'], ['vesicoureteric reflux'], ['advanced prostatic cancer'], ['extensive burns'], ['vesico-enteric fistula'], ['third and sixth nerve palsy'], ['sixth nerve palsy', 'third nerve palsy'], ['proteinuria'], ['disseminated malignant melanoma'], ['disseminated malignant melanoma'], ['advanced malignant melanoma'], ['breast cancer'], ['metastatic breast cancer'], ['metastatic dysgerminoma of the ovary'], ['metastatic dysgerminoma'], ['metastatic malignant germ cell tumors'], ['mycosis fungoides'], ['mycosis fungoides'], ['splenomegaly'], ['mycosis fungoides'], ['head and neck cancer'], ['micrometastases'], ['malignant pleural effusion'], ['malignant pleural effusion'], ['right ventricular failure'], ['refractory right ventricular failure following the surgical repair of congenital cardiac defects in which the placement of right atrial and pulmonary artery cannulae is not technically feasible'], ['severe rv failure'], ['ventricular tachycardia'], ['ventricular tachycardia'], ['coronary angioplasty for early postinfarction unstable angina'], ['myocardial infarction'], ['angina'], ['coronary dissection and total coronary occlusion leading to emergency coronary surgery'], ['influenza'], ['acute exacerbations of chronic bronchitis'], ['community-acquired bacterial meningitis'], ['listeria monocytogenes'], ['bacterial meningitis'], ['common cold infections'], ['colds'], ['community-acquired pneumonia'], ['cancer'], ['extrahepatic bile duct carcinoma'], ['pulmonary disorders'], ['respiratory disease'], ['croup'], ['non-functioning endocrine pancreatic tumor with progressive liver and lymph node metastases'], ['metastatic nets of the gep system'], ['cholestasis'], ['hepatitis'], ['con a-induced hepatitis'], ['severe acute hepatitis accompanying cholestasis or autoimmune hepatitis'], ['common colds'], ['asthma'], ['concanavalin a-induced hepatitis'], ['presumed cavernomas'], ['syringomyelia associated with spinal adhesive arachnoiditis'], ['cryptococcal meningitis'], ['cholangiocarcinoma'], ['bronchiectasis'], ['severe , generalized bronchiectasis and respiratory failure'], ['bronchiectasis'], ['common cold'], ['cold symptoms'], ['cold symptoms'], ['cold symptoms'], ['chronic hepatitis c resistant to interferon'], ['renal cell carcinoma'], ['inoperably disseminated renal carcinoma and lung metastases'], ['liver metastasis'], ['heartburn and regurgitation'], ['persistent severe regurgitation during medical therapy'], ['lung lacerations and major bronchial disruptions caused by blunt thoracic trauma'], ['biliary dyskinesia'], ['biliary dyskinesia'], ['biliary dyskinesia'], ['biliary dyskinesia'], ['biliary dyskinesia'], ['bronchiolitis obliterans organizing pneumonia'], ['advanced non-small cell lung cancer'], ['common cold'], ['pulmonary aspergilloma'], ['pulmonary aspergilloma'], ['lung abscess'], ['cholangiocarcinoma'], ['human cholangiocarcinoma'], ['human cholangiocarcinoma'], ['viral infections'], ['asthma'], ['acute lymphoblastic leukemia and non-hodgkin lymphoma'], ['miliary tuberculosis'], ['hemorrhage'], ['allergic rhinitis'], ['chronic hepatitis b'], ['asthma'], ['surgical jaundice'], ['hepatitis a virus ( hav )'], [\"hodgkin 's disease\"], ['meta-analysis'], ['asthma'], ['colic'], ['cgm of undetermined cause'], ['chronic asthma'], ['acute nasopharyngitis ( anp )'], ['head lice'], ['crawling lice'], ['louse control'], ['salmonella meningitis'], ['pancreatitis'], ['influenza-associated acute encephalopathy'], ['anaerobic pleuropulmonary infections'], ['spontaneous carotid-cavernous fistula in ehlers-danlos syndrome'], ['symptoms of a common cold'], ['rhinovirus colds'], ['multidrug resistant tuberculosis'], ['tuberculosis'], ['common cold'], ['hemobilia-associated pancreatitis'], ['biliary stenosis'], ['ruptured horn'], ['asthma'], ['croup'], ['respiratory tract infections'], ['streptococcus pneumoniae'], ['acute exacerbation of chronic bronchitis', 'community-acquired pneumonia'], ['hiv infection'], ['influenza a2 ( h2n2 ) virus'], ['influenza a2 virus'], ['recurrent abdominal pain'], ['h. pylori infection'], ['helicobacter pylori infection'], ['bacterium'], ['gallstones and their complications'], ['asthma'], ['asthma'], ['common cold', 'diarrhea'], ['postoperative alkaline reflux gastritis'], ['gastric cancer'], ['postoperative alkaline gastric reflux'], ['gastric cancer'], ['asthma'], ['asthma'], ['asthma'], ['asthma'], ['asthma'], ['asthma'], ['chronic hepatitis c'], ['hepatitis c'], ['hiv infection'], ['hepatitis c viremia'], ['cbd stones'], ['cbd stones'], ['gastroesophageal reflux disease ( gerd )'], ['ahf'], ['abscesses'], ['colds'], ['arrhythmogenic right ventricular dystrophy'], ['severe hypoxemia'], ['gastroduodenal ulcer'], ['asthma'], ['asthma'], ['amoxicillin , cefuroxime axetil , and ceftriaxone'], ['acute otitis media ( aom )'], ['acute otitis media ( aom )'], ['liver failure'], ['acute abdominal pain'], ['gastric cancer or peptic ulcer'], ['chronic hepatitis c'], ['chronic hepatitis c'], ['chronic hepatitis c'], ['inflammation of the oral mucosa', 'blenorrhea', 'asthmatic bronchitis', 'nasal congestion'], ['tuberculosis'], ['severe colitis'], [\"ulcerative or crohn 's colitis\"], ['cytomegalovirus ( cmv ) infection'], ['rsv bronchiolitis'], ['infant rsv bronchiolitis'], ['primary sclerosing cholangitis ( psc )'], ['chronic hepatitis b virus infection'], ['depression'], ['meningococcaemia'], ['ultraviolet-induced damage to the epidermis'], ['idiopathic constipation'], ['constipation'], ['treatment-resistant bilateral cmv retinitis'], [' '], ['cmv retinitis'], ['advanced mcv lesions'], ['human immunodeficiency virus (hiv) infection'], ['age-related macular degeneration ( amd )'], ['myocardial infarction'], ['ventricular fibrillation', 'pulseless ventricular tachycardia'], ['myocardial infarction'], ['breast cancer'], ['refractory esophageal stricture'], ['severe ultraviolet b ( uvb ) , photochemotherapy ( puva ) , methotrexate ( mtx ) , retinoids ( ret ) and cyclosporin a ( cya )'], ['chronic renal failure'], ['proximal hypospadias'], ['hypospadias'], ['penoscrotal hypospadias'], ['hypospadias'], ['ischemic heart disease'], ['cancer'], ['testicular relapse'], ['schizophrenia'], ['schizophrenia'], ['bone marrow disease'], ['relapsed pediatric leukemias'], ['thrombotic disorders'], ['unstable angina'], ['acute occlusion of the middle cerebral artery'], ['infection'], ['chronic carriers of hbv'], ['acute myocardial infarction'], ['acute myocardial infarction'], ['forehead soft tissue mass'], ['benign prostatic hyperplasia ( bph )'], ['hepato-biliary dysfunction and digestive complaints'], ['rheumatic pain'], ['degenerative painful rheumatism'], ['inflammatory and autoimmune diseases'], ['dermatomyositis', 'autoimmune bullous disorders', 'epidermolysis bullosa acquisita', 'pemphigoid', 'pemphigus'], ['dermatomyositis'], ['large midline incisional hernias'], ['nonmalignant pain'], ['empyema'], ['capd'], ['recurrent pericarditis'], ['cancer chemotherapy'], ['low-grade nhl'], ['low-grade or transformed low-grade nhl'], ['low-grade non-hodgkin lymphoma'], ['non-hodgkin lymphoma'], ['colorectal cancer'], ['large-bowel cancer'], ['colorectal cancer'], ['phaeochromocytoma'], ['hereditary phaeochromocytoma'], ['type 2 diabetes'], ['chronic myelogenous leukemia'], ['advanced malignant melanoma'], ['malignant melanoma'], ['renal cell carcinoma'], ['renal cell carcinoma'], ['hairy cell leukemia'], ['hypersplenism'], [\"low-grade non-hodgkin 's lymphoma\"], [\"low-grade non-hodgkin 's lymphoma\"], [\"low-grade non-hodgkin 's lymphoma\"], ['chronic myelogenous leukemia ( cml )'], ['cml , ph1-positive'], ['neoplastic disorders'], ['locally advanced squamous cell carcinoma of the head and neck ( scchn )'], ['scchn'], ['labor analgesia'], ['partial seizures'], ['partial seizures'], ['partial seizures'], ['bipolar disorder'], ['bipolar disorder'], ['bipolar disorder'], ['ami'], ['hypercholesterolaemia'], ['fap', 'multiple ( more than 30 ) colorectal polyps'], ['esophageal achalasia'], ['abnormal uterine bleeding'], ['malignant brain tumors'], ['irritable bowel syndrome'], ['hepatitis c virus'], ['thromboembolic disease in pregnancy'], ['proximal hypospadias'], ['prostate cancer'], ['acute dental pain'], ['cardiac defects'], ['paracolostomy hernias'], ['cancer'], ['short-bowel syndrome'], ['multiple sclerosis'], ['sickle cell disease'], ['sore throat'], ['croup'], [\"colles ' fractures\"], ['acute middle cerebral artery occlusion'], ['tetanus'], ['heart failure', 'chronic atrial a'], ['ventral hernias'], ['episodic tension-type a'], [\"fulminant reactivated hepatitis b infection following intensive therapy for high-grade non-hodgkin 's lymphoma\"], ['myocardial infarction'], ['advanced sarcomas'], ['acute humoral rejection in kidney transplantation'], ['cerebral palsy'], ['forehead mass'], ['bladder cancer'], ['tubal pregnancy'], ['interstitial pregnancy with subsequent hysterosalpingography'], ['postoperative fibrinoid syndrome in ophthalmology'], ['b16 melanoma'], ['uveal melanoma'], ['benign prostatic hyperplasia'], ['rheumatic complaints'], ['degenerative diseases of the musculoskeletal system'], ['intrahepatic biliary obstruction'], [\"crohn 's disease\"], ['advanced rectal cancer'], ['locally advanced rectal adenocarcinoma'], ['bronchiectasis'], ['hydatid disease'], ['postpneumonic empyema'], ['pulmonary tuberculosis'], ['spontaneous pneumothorax'], ['chronic thromboembolic pulmonary hypertension'], ['noncirrhotic portal hypertension'], ['lung hydatid disease'], ['incisional hernia'], ['difficult airways'], ['empyema'], ['asthma'], [\"non-hodgkin 's lymphoma\"], ['phaeochromocytoma'], ['acute cerebral ischemia'], [''], ['secondary pneumothorax'], ['troglitazone-induced hepatic failure leading to liver transplantation'], ['stridor'], ['lactose intolerance'], ['idiopathic thrombopenic purpura'], ['scrub typhus'], ['hyperopia'], ['advanced malignant melanoma'], ['renal cell carcinoma'], [\"low-grade non-hodgkin 's lymphoma\"], ['odontogenic infections'], ['squamous cell carcinoma of the head'], ['relapsing-remitting multiple sclerosis'], ['postoperative analgesia'], ['partial seizures'], ['unresectable colorectal cancer liver metastases'], ['ventral hernia repair'], ['myocardial infarction'], ['mesenteric venous thrombosis'], ['myocardial infarction'], ['cerebrovascular disease'], ['cancer'], ['advanced recurrent malignant cns tumors'], ['retinoblastoma'], [\"barrett 's esophagus\"], ['defecatory disorders'], ['retinal'], ['colchicine'], ['severe pulmonary limited applications'], ['myocardial infarction'], ['occupational disability'], ['infectious mononucleosis'], ['uterine cervix insufficiency during the 2d trimester of pregnancy'], ['depression'], ['atrial fibrillation'], ['eimeria infections of chicks'], ['hydrocele and cysts of the epididymis'], ['decompression accidents'], ['burn therapy'], ['hypertrophic obstructive cardiomyopathy ( idiopathic hypertrophic subaortic stenosis )'], ['autoimmune hemolytic anemia'], ['endometrial hyperplasia'], ['hypertension in pregnancy'], ['epithelial ovarian cancer'], [\"hodgkin 's disease\"], ['hiv infection'], ['diabetes mellitus'], ['type i diabetic patients'], ['sciatica'], ['prostate cancer'], ['myofascial trigger points'], ['non-hodgkin lymphoma'], ['coronary heart disease'], ['hydatid cysts'], ['ectopia lentis'], ['breast cancer'], ['anal cancer'], ['breast cancer'], ['rectal prolapse'], ['cardiovascular disease'], ['lower respiratory tract infection'], ['intraabdominal infections'], ['severe meningococcal disease'], ['noninsulin-dependent diabetes mellitus'], ['testicular cancer'], ['hiv'], ['acromegaly'], [\"hodgkin 's disease\"], ['lymphoma'], ['asthma'], ['schizophrenia and other psychiatric disorders'], ['renovascular disease'], ['advanced carcinoma of the esophagus and cardia'], ['prostate cancer'], ['peptic ulceration'], ['acute respiratory failure'], ['thalassemia major'], ['non-small-cell lung cancer'], ['thoracic wall defects after tumor resection'], ['acute repetitive seizures'], ['exercise-induced asthma'], ['breast cancer'], ['venous thromboembolism'], ['benign prostatic hyperplasia'], ['schizophrenia'], ['aml'], ['pulmonary hypertension'], ['multiple sclerosis'], ['prostate carcinoma'], ['persistent neonatal hyperinsulinaemic hypoglycaemia'], ['prostate cancer'], ['recurrent anterior dislocation of the shoulder'], ['multiple sclerosis'], ['metastatic colorectal cancer'], ['normal-tension glaucoma'], ['acute myocardial infarction'], ['digital ring block'], ['lateral epicondylitis'], [\"de quervain 's tenosynovitis\"], ['dog bite'], ['first anterior shoulder dislocation'], ['acoustic neuroma'], ['rheumatoid arthritis'], ['malignant hyperpyrexic syndrome'], ['severe combined immunodeficiency'], [\"drug-induced psychosis in parkinson 's disease\"], ['depression'], ['hepatitis c'], ['cerebral palsy'], ['diabetic vitreous hemorrhage in phakic patients'], ['carbon monoxide poisoning'], ['epilepsy'], ['cancer'], ['solid tumors'], ['supratentorial cavernous malformations'], ['infratentorial malformations'], ['deep brain cavernous malformations'], ['chronic hepatitis c'], ['barrett esophagus'], ['pancreatic fluid collections'], ['hypertrophic obstructive cardiomyopathy'], ['growth hormone ( gh ) effect of substitutive gh therapy'], ['balding in men'], ['carbon monoxide poisoning'], ['depression'], ['autoimmune thrombocytopenic purpura'], ['sleep-wake cycle disorders'], ['cisplatin-induced emesis'], ['intraocular pressure'], ['temporomandibular joint arthropathy'], ['acute colonic pseudo-obstruction'], ['chronic anal fissure'], ['severe secondary peritonitis'], ['supratentorial intracerebral a'], ['separation-related problems in dogs'], ['influenza'], ['primary operable breast cancer'], ['hypertension'], ['postoperative peritonitis'], ['open-bite treatment with the thera-spoon'], ['colorectal cancer'], ['colorectal cancer'], ['ovarian cancer'], ['head lice'], ['diverticular hemorrhage'], [\"parkinson 's disease\"], ['pulmonary embolism'], ['breast-conserving treatment for ductal carcinoma in first results of the eortc randomised phase iii trial 10853'], ['opioid dependence'], ['hemangiomas'], ['cancer'], ['asthma'], ['arthritis'], ['groin hernia surgery'], ['glaucoma'], ['infections associated with gangrenous and perforated appendicitis'], ['acute coronary syndromes'], ['chronic renal failure'], ['peripheral vascular disease'], ['urinary tract infection'], ['vasoreactivity and thrombogenicity'], ['epithelial ovarian cancer'], ['urinary incontinence'], ['epilepsy'], ['multiple myeloma'], ['lymphedema'], ['pressure group 1'], ['recurrent spontaneous abortion'], ['chronic stable angina pectoris'], ['osteoarthritis of the knee']]\n",
      "[['roxithromycin'], ['antichlamydial antibiotics'], ['radical surgery or radiotherapy'], ['electrotherapy'], ['ens', 'ems'], ['dexfenfluramine hydrochloride'], ['moxonidine'], ['praziquantel'], ['g-csf'], ['g-csf'], ['accelerated infusion of alteplase ( tissue plasminogen activator ) over a period of 90 minutes'], ['alteplase'], ['arthrodesis'], ['ropinirole'], ['ropinirole monotherapy'], ['pc iol implantation'], ['antibiotics'], ['antibiotics'], ['antibiotics'], ['antibiotics'], ['epidural fentanyl ( f ) and sufentanil ( s )'], ['surgical procedures'], ['surgical treatment of female stress urinary incontinence'], ['surgical treatment of female stress urinary incontinence'], ['surgery'], ['donor intrauterine insemination'], ['partner intrauterine insemination', 'donor insemination'], ['celiotomy'], ['thrombolytic treatment'], ['thrombolysis'], ['thoracotomy , radiotherapy , and chemotherapy'], ['posteroventral pallidotomy'], ['tefna', 'tese'], ['sulfamides and biguanides', 'intestinal glycosidases inhibitors and thiazolidendiones'], ['calcium antagonists'], ['verapamil or diltiazem'], ['sumatriptan and other selective serotonin agonists'], ['foley catheter and a pack'], ['resuscitation treatment'], ['iodine i-131'], ['cortisone'], ['extended resection'], ['medical treatment of stone disease'], ['surgical treatment of urinary stones'], ['hyperbaric oxygen , whole-body x irradiation , and cyclophosphamide combination therapy'], ['surgical correction of malformations of the bones of the foot'], ['fish protein concentrates'], ['yag laser'], ['antiretroviral treatment'], ['topical cidofovir'], ['elective surgery'], ['elective surgery for gastrointestinal tumours in the elderly'], ['fixed low-dose warfarin with aspirin'], ['roxithromycin'], ['radical surgery versus radiotherapy'], ['erythropoietin'], ['antimicrobial therapy'], ['moxonidine'], ['praziquantel'], ['granulocyte-colony stimulating factor'], ['alteplase'], ['antibiotic management of sore throat'], ['cancer therapy'], ['phototherapeutic keratectomy'], ['arthrodesis of the first metatarsophalangeal joint'], ['ropinirole'], ['non-steroidal anti-inflammatory therapy'], ['surgical management of female stress urinary incontinence'], ['extracorporeal rewarming of severe accidental hypothermia victims in accident and emergency'], ['magnetic-resonance pelvimetry'], ['fine needle aspiration cytology'], ['second-look surgery'], ['microelectrode-guided posteroventral pallidotomy'], ['curative surgery'], ['lung volume reduction surgery'], ['shark cartilage'], ['testicular sperm extraction by open biopsy'], ['trk-530'], ['long-acting analogue of gonadotropin-releasing hormone'], ['homeopathy'], ['inositol'], ['beta-blockers'], ['calcium antagonists'], ['serotonin agonists'], ['surgical management of soft tissue principles of resection and reconstructive plastic procedures'], ['chemotherapy'], ['radiotherapy'], ['trientine'], ['zinc gluconate lozenges'], ['protein-c concentrate , heparin , and haemodiafiltration'], ['tocopherol'], ['cisapride'], ['surfactant ( beractant )'], ['cidofovir'], ['external beam radiation therapy'], ['bolus thrombolytic infusion'], ['nerve stimulator'], ['anaesthesia for laparoscopic cholecystectomy'], ['cddp , 5-fu , and vp-16'], [\"new drug treatment for alzheimer 's disease\"], ['simple antiseptic mouthwashes'], ['aspirin plus tirofiban', 'aspirin plus heparin'], ['chemotherapy alone', 'chemotherapy plus radiotherapy'], ['azathioprine and prednisolone'], ['chelation therapy'], ['endoscopic ultrasound miniprobe-guided steroid injection'], ['systemic treatments'], ['clinical management and treatment outcomes of merkel cell carcinoma'], ['inhaled sodium cromoglycate'], ['normoxic cardiopulmonary bypass'], ['apc'], ['induction chemotherapy ( cisplatin + vinorelbine )'], ['txt , gem , cddp'], ['il-2'], ['chemotherapy'], ['carboplatin and ifosfamide'], ['sp1 decoy strategy'], ['mdp-lys'], ['adenovirus-mediated interleukin 12 ( il-12 ) gene therapy'], ['rm-9 cells'], ['intensive chemotherapy'], ['radiotherapy'], ['uft'], ['uft'], ['irinotecan ( cpt-11 ) and cisplatin ( cddp )'], ['cpt-11 and cddp'], ['paclitaxel'], ['paclitaxel'], ['pseudoephedrine plus acetaminophen'], ['nasal decongestant'], ['antibiotics'], ['pb2-as , as a complex with dmrie-c , a cationic liposome'], ['background and thoracic paravertebral block ( tpvb )'], ['interpleural and epidural blocks'], ['tpvb'], ['paravertebral block'], ['mr-guided rfa using single cooled tip electrodes'], ['curative pancreaticoduodenectomy'], ['chronochemotherapy'], ['n-acetylcysteine'], ['corticosteroids'], ['covered-ems'], ['cell wall-active antibiotic to which the enterococcus is susceptible ( ie , certain beta-lactams or vancomycin ) plus an amin'], ['fluconazole and itraconazole'], ['topical corticosteroids'], ['tacrolimus and ascomycin derivatives'], ['cyclophosphamide'], ['gemifloxacin'], ['d-penicillamine'], ['surgery alone is curative in only two-thirds of cases and post-operative radiotherapy ( rt ) provides only weak control of advanced-stage disease'], ['gemcitabine/cisplatin'], ['chemotherapy'], ['sequential chemotherapy followed by radiation'], ['gemcitabine/carboplatin'], ['gemcitabine and carboplatin'], ['aggressive surgical approach'], ['prophylactic cranial irradiation ( pci ) with a 6 mev linear accelerator'], ['surgery'], ['paclitaxel , docetaxel , vinorelbine , gemcitabine and irinotecan'], ['platinum-based chemotherapy'], ['these aggressive chemotherapeutic combinations'], ['carinal resection'], ['carinal resection'], ['extracorporeal photopheresis'], ['extracorporeal photopheresis'], ['extracorporeal photopheresis'], ['extracorporeal photopheresis'], ['cmt', 'chemotherapy and radiotherapy'], ['combination chemotherapy'], ['chemotherapy'], ['wli'], ['heparin and enoxaparin'], ['anticoagulant therapy'], ['heparin and/or enoxaparin'], ['expandable metal stents'], ['peri- and postoperative management'], ['thoracic irradiation'], ['etoposide ( vp-16 ) -ifosfamide-cisplatin ( vip ) combination chemotherapy plus early concurrent thoracic irradiation'], ['etoposide-ifosfamide-cisplatin and concurrent thoracic irradiation'], ['vip combination chemotherapy and early concurrent thoracic irradiation'], ['complete surgical resection'], ['surgery'], ['inhaled corticosteroid therapy'], ['surgical staging'], ['paclitaxel plus gemcitabine'], ['systemic chemotherapy'], ['combination chemotherapy of cisplatin , ifosfamide , and irinotecan with recombinant human granulocyte colony-stimulating factor support'], ['both the response rate and survival data in this retrospective study suggest a high degree of activity of this combination chemotherapy in patients with malignant pleural effusions from nsclc'], ['chemotherapy'], ['chemotherapy and/or thoracic radiotherapy'], ['mitomycin c in addition to cisplatin-based regimens for patients with lung cancer'], ['neoadjuvant chemotherapy'], ['neoadjuvant chemotherapy'], ['photodynamic therapy , nd-yag laser and electrocautery for intraluminal early-stage cancer'], ['uft'], ['review of our experience with the spectrum of neuroendocrine neoplasms of the lung'], ['lung resection'], ['surgery'], ['high-dose radiotherapy ( rt )'], ['chemoradiotherapy'], ['cisplatin and radiotherapy'], ['low-dose cisplatin and radiotherapy'], ['stents'], ['stents'], ['covered or noncovered metallic stents'], ['silicone stents'], ['stent therapy'], ['stent'], ['covered metallic stent'], ['t12 protocol'], ['her2/erbb-2'], ['ninjin yoei to ( nyt', 'ren-shen-yang-rong-tang in chinese medicine', 'kotaro pharmaceutical co. , ltd. , osaka , japan'], ['nyt ( 15 g/d )'], ['nyt'], ['videothoracoscopic procedures for patients with lung carcinoma'], ['surgical treatment'], ['lobectomy or partial resection of the lung'], ['thoracoscopic partial resection of the lung'], ['curative therapy'], ['gks', 'wbrt'], ['gks'], ['gks'], ['gamma knife radiosurgery without prophylactic wbrt'], ['docetaxel'], ['gks', 'wbrt'], ['surgical resection and wbrt'], ['vats therapeutic pulmonary metastasectomy of colorectal carcinoma'], ['therapeutic metastasectomy of peripheral colorectal pulmonary metastases'], ['therapeutic vats metastasectomy'], ['therapeutic vats resection of colorectal metastases'], [''], ['combined-modality therapy'], ['taxanes and topoisomerase i inhibitors'], ['chemotherapy'], ['combination chemotherapy of cisplatin , ifosfamide and irinotecan with rhg-csf support'], ['chemotherapy'], ['interferon-alpha2b and interleukin-2'], ['chemotherapy ( ct )'], ['intravenous oxaliplatin'], ['neoadjuvant therapy with oxaliplatin/fluorouracil/folinic acid'], ['surgery with curative intent'], ['oxaliplatin/cyclophosphamide'], ['oxaliplatin'], ['oxaliplatin'], ['oxaliplatin in combination with fluorouracil/folinic acid'], ['oxaliplatin'], ['combined modality treatment'], ['resection'], ['lymph node immunoreactivity and li'], ['paclitaxel and carboplatin'], ['platinum-based combination chemotherapy , with thoracic irradiation added for patients with limited-stage disease'], ['several newer chemotherapeutic drugs'], ['completion pneumonectomy of the left lung'], ['en-bloc resection'], ['radical en-bloc resection of non-small cell lung cancer ( nsclc ) with chest wall involvement'], ['complete pulmonary resection for primary lung cancer accompanied by satellite nodules in the same lobe as the primary'], ['resection'], ['chemotherapy'], ['postoperative irradiation'], ['surgical resection'], ['chemotherapy administered postoperatively ( adjuvant ) or preoperatively ( neoadjuvant or induction )'], ['chemotherapy administered before surgery or definitive irradiation'], ['pulmonary resection'], ['prophylactic cranial irradiation'], ['prophylactic cranial irradiation'], [\"review 's prophylactic cranial irradiation\"], ['gemcitabine'], ['novel treatment strategies for patients with advanced nsclc'], ['combination chemotherapy'], ['irinotecan'], ['irinotecan in combination with cisplatin ( platinol )'], ['irinotecan and cisplatin combination'], ['gemcitabine', 'etoposide'], ['gemcitabine 1000 mg/m2 , days 1 , 8 and 15', 'etoposide 80 mg/m2 , days 8 , 9 and 10'], ['ifosfamide in combination with paclitaxel and carboplatin'], ['ifosfamide 2000 mg/m2 in combination with paclitaxel 175 mg/m2 and carboplatin auc 6 mg/ml min administered on the first day of a 21-day'], ['endobronchial treatment modalities'], ['endobronchial treatment modalities'], ['endobronchial interventions'], ['lobectomy or pneumonectomy on the tumor baring lung and ipsilateral hilar and mediastinal lymphadenectomy including subcarinal lymph nodes'], ['chemotherapy'], ['radiotherapy'], ['radiotherapy'], ['bec-2'], ['matrix metalloproteinase inhibitors'], ['5-fu and low-dose isovorin ( f.i )'], ['radiation therapy'], ['radiation therapy'], ['paclitaxel and carboplatin'], ['carboplatin plus gemcitabine', 'paclitaxel'], ['planned sequential chemotherapy'], ['surgical resection'], ['paclitaxel plus carboplatin ( pc )', 'vinorelbine plus cisplatin ( vc )'], ['pc', 'vc'], ['carboplatin alone', 'carboplatin and cisplatin in combination'], ['intensification of platinum dose ( cisplatin plus carboplatin ) in combination chemotherapy'], ['tc-tf accumulation in untreated sclc'], ['tc-tf chest scintigraphy'], ['exploratory interventions , partial tumor resections and lung resections for metastasis'], ['pulmonary angiography'], ['pci'], ['pci'], ['rhg-csf'], ['cisplatin 100 mg/m2 and cyclophosphamide 1000 mg/m2 every 3 weeks with or without pretreatment with intravenous amifostine 910 mg/m2'], ['amifostine'], ['amifostine ( 340 mg/m2 )'], ['amifostine'], ['amifostine'], ['minimally invasive direct coronary artery bypass and left lower lobectomy with video-endoscopic assistance'], ['100 % oxygen therapy'], ['phenytoin'], ['atropine'], ['atropine'], ['left ventricular assist device'], ['continuous arteriovenous hemofiltration'], ['continuous renal replacement therapy'], ['continuous arterio-venous hemofiltration in a wearable device to treat end-stage renal disease'], ['neostigmine 0.07 mg kg-1 and edrophonium 0.8 mg kg-1'], ['atracurium'], ['1 alpha-hydroxyvitamin d3', '1 alpha , 25-dihydroxyvitamin d3', '1 alpha , 25-dihydroxyvitamin d3 applied topically'], ['active metabolites of vitamin d3'], ['topical application of active vitamin d3 analogue , 1 alpha , 24-dihydroxycholecalciferol'], ['1 alpha , 24 ( oh ) 2d3'], ['indomethacin'], ['indomethacin'], [' '], ['corticosteroid'], ['steroid therapy'], ['methotrexate ( mtx )'], ['mtx in a low-dose regimen'], ['antilymphocyte globulin ( alg ) , prednisolone and a cytotoxic agent , usually azathioprine'], ['rigid ureteroscopy'], ['rigid ureteroscopy'], ['endoscopic injection of pyrolised polytetrafluoroethylene ( polytef ) paste'], ['orchiectomy or oestrogen'], ['scarred flaps and secondary flaps'], ['resection of the small intestine and dome of the bladder and drainage of the intervening abscess'], ['supramaximal horizontal rectus surgery'], ['supramaximal medial and lateral rectus surgery'], ['steroid therapy'], ['rifn-alpha a'], ['rifn-alpha a , roferon-a , hoffmann la roche', 'cimetidine'], ['rifn-alpha a'], ['combination chemotherapy'], ['doxorubicin-containing chemotherapy'], ['etoposide , bleomycin , and cisplatin'], ['chemotherapy'], ['cisplatin-based combination chemotherapy'], ['bleomycin , doxorubicin , and methotrexate with topical nitrogen mustard ( bam-m )'], ['bam-m'], ['splenectomy'], ['bam-m'], ['ommaya placement'], ['additional chemotherapy'], ['thoracentesis or tube drainage with instillation of irritants'], ['pleuroperitoneal shunting'], ['volume loading , correction of hypoxia and acidosis , inotropic support of the right ventricle'], ['high-frequency high-volume ventilation'], ['rhbp'], ['preoperative endocardial catheter mapping'], ['procainamide'], ['coronary angioplasty for early postinfarction unstable angina'], ['coronary angioplasty'], ['angioplasty'], ['ptca'], ['zanamivir'], ['cefdinir', 'loracarbef'], ['cefotaxime or ceftriaxone', 'vancomycin'], ['ampicillin'], ['dexamethasone'], ['vitamin c supplementation'], ['vitamin c'], ['levofloxacin', 'ceftriaxone', 'amoxicillin/clavulanate'], ['resection'], ['resection of extrahepatic bile duct carcinoma'], ['n-acetylcysteine ( nac ) and ambroxol ( amb )'], ['antimicrobial therapy'], ['corticosteroids'], ['lanreotide'], ['octreotide lar 20 mg'], ['inchinko-to ( tj-135 )'], ['tj-135'], ['pretreatment with tj-135'], ['tj-135'], ['zinc lozenges'], ['t-helper type 2 cell-directed therapy for asthma'], ['inchinko-to'], ['radiation for malignancy ( 5-6 )', 'sterotactic cerebral biopsy ( 7 )'], ['surgical management of syringomyelia associated with spinal adhesive arachnoiditis'], ['secondary prophylaxis for cryptococcal meningitis'], ['hepatectomy'], ['antibiotics , antibronchoobstructive medication , and chest physical therapy'], ['bilateral lung transplantation'], ['antibiotics and surgery'], ['zinc'], ['zinc lozenges'], ['zinc lozenges'], ['zinc lozenges'], ['interferon-alpha plus ursodeoxycholic acid'], ['hepatic arterial embolization'], ['immunotherapy for inoperably disseminated renal carcinoma and lung metastases'], ['transcatheter arterial embolization ( tae )'], ['pharmaceutically combined with life style counselling'], ['surgical treatment'], ['surgical treatment of lung lacerations and major bronchial disruptions caused by blunt thoracic trauma'], ['cholecystectomy'], ['cholecystectomy'], ['cholecystectomy'], ['cholecystectomy'], ['cholecystectomy'], ['corticosteroids'], ['novel treatment strategies for patients with advanced nsclc'], ['pseudoephedrine plus acetaminophen'], ['aggressive pulmonary resection'], ['surgery'], ['video-assisted thoracoscopic surgery'], ['trail'], ['trail'], ['trail'], ['interferon'], ['intensive chemotherapy'], ['chemotherapy'], ['antituberculous drugs'], ['microcoil embolization'], ['acupuncture'], ['lamivudine'], ['wdta'], ['percutaneous transhepatic biliary drainage'], ['immunoadhesin containing the cysteine-rich region of hav cellular receptor-1'], ['abvd chemotherapy'], ['glucocorticoids'], ['inhaled corticosteroids'], ['casein hydrolysate feedings'], ['antimicrobial/ antituberculous agents'], ['s-ecp'], ['antibiotic treatment in acute nasopharyngitis ( anp )'], ['1 % permethrin'], ['pediculicide containing 1 % permethrin'], ['permethrin'], ['antibiotics'], ['contrast'], ['mild hypothermia and steroid pulse therapy'], ['antibiotic therapy and surgical interventions'], ['transvenous occlusion with guglielmi detachable coils'], ['macrolide antibiotics'], ['clarithromycin'], ['therapeutic pneumothorax ( tp )'], ['tp'], ['acupuncture'], ['surgical or radiological methods'], ['minocycline hydrochloride'], ['excision of the ruptured horn'], ['therapy designed to control the efferent phase of established asthma'], ['glucocorticoids'], ['levofloxacin'], ['levofloxacin'], ['levofloxacin'], ['haart'], ['gingyo-san and its components'], ['gingyo-san'], ['antimicrobial treatment'], ['omeprazole , amoxicillin , and clarithromycin'], ['omeprazole , amoxicillin , and clarithromycin'], ['combined therapy'], ['interventional radiologic procedures'], ['salbutamol'], ['inhaled salbutamol'], ['antimicrobials'], ['surgery'], ['billroth ii subtotal gastrectomy'], ['roux-en-y gastrojejunostomy'], ['drainage methods for the gastric conduit after esophagectomy for carcinoma'], ['inhaled corticosteroids'], ['fluticasone propionate'], ['inhaled fluticasone propionate'], ['inhaled fluticasone propionate'], ['inhaled fluticasone propionate'], ['fluticasone propionate'], ['ifn alpha plus ribavirin'], ['ribavirin'], ['combination therapy'], ['ribavirin in combination with ifn alpha'], ['surgical clearance of cbd stones'], ['es'], ['cholecystectomy'], ['ahf'], ['ct-controlled drainage with a basket catheter system'], ['pl granule'], ['amiodarone'], ['glucocorticoid pulse therapy'], ['partial gastrectomy with roux-en-y gastrojejunostomy'], ['inhaled fluticasone propionate ( fp )'], ['fp'], ['amoxicillin , cefuroxime axetil , and ceftriaxone'], ['amoxicillin , trimethoprim/sulfamethoxazole ( tmp/smx ) , or high-dose amoxicillin/clavulanate ('], ['amoxicillin'], ['liver-assist devices'], ['opioid analgesic administration'], ['gastrectomy for gastric cancer or peptic ulcer'], ['ribavirin'], ['interferon alfa and ribavirin'], ['combination therapy with interferon alfa and ribavirin'], ['sida cordifolia l.'], ['mycobacterium vaccae immunotherapy'], ['tacrolimus'], ['tacrolimus'], ['highly active antiretroviral therapy ( haart )'], [''], ['inhaled corticosteroid treatment'], ['budesonide'], ['interferon and lamivudine'], ['amitriptyline 75 mg at night'], ['protein-c concentrate', 'continuous veno-venous haemodiafiltration', 'conventional treatment'], ['topical dl-alpha-tocopherol ( vitamin e )'], ['cisapride'], ['cisapride , 0.2 mg/kg three times daily'], ['intravenous cidofovir therapy'], ['cidofovir'], ['intravenous cidofovir therapy'], ['cidofovir'], ['cidofovir'], ['external beam radiation therapy'], ['thrombolytic therapy'], ['tissue plasminogen activator'], ['bolus thrombolytic infusions during cpr'], ['subcutaneous mastectomy and immediate reconstruction with a prosthesis'], ['local injection of corticosteroids into refractory esophageal strictures'], ['systemic treatments'], ['pn solutions'], ['tubularized incised plate urethroplastym'], ['tubularized incised plate urethroplasty'], ['tubularized incised plate surgery'], ['tubularized incised plate urethroplasty'], ['aortocoronary bypass grafting'], ['heat shock protein preparations derived from autologous cancer'], ['bmt'], ['olanzapine'], ['olanzapine'], ['fludarabine and ara-c'], ['fludarabine'], ['heparin'], ['ufh or enoxaparin'], ['pta'], ['screen-and-treat'], ['lamivudine'], ['transfer to an angioplasty center for primary angioplasty'], ['primary angioplasty'], ['endoscopic removal of a forehead soft tissue mass'], ['pharmacological treatment of bph'], ['artichoke extracts ( cynara scolymus l. )'], ['herbal medicine'], [\"devil 's claw ( harpagophytum procumbens )\"], ['hdivig'], ['hdivig'], ['hdivig'], ['autologous repair'], ['intrathecal morphine'], ['thoracoscopy'], ['apd'], ['colchicine'], ['cancer chemotherapy'], ['high-dose radiation and cytotoxic agents , administered alone or in combination', 'high-dose therapy with stem cell transplant'], ['mabs'], ['mabs'], ['radiolabeled mabs , administered alone or in combination with cytotoxic agents'], ['uft'], ['uft ( approximately 50 mg/dose )', 'oral lv ( approximately 50 mg/dose )'], ['uft'], ['adrenalectomy'], ['adrenal-sparing surgery'], ['troglitazone'], ['interferon alfa-2a'], ['rifn alfa-2a'], ['interferon alfa-2a'], ['interferon alpha preparations'], ['interferons beta and gamma'], ['antileukemic therapy'], ['splenectomy'], ['interferon alpha'], ['interferon'], ['interferon and cytotoxic drugs'], ['interferons'], ['interferon alfa-2a'], ['recombinant human interferon alfa-2a'], ['docetaxel , cisplatin , fluorouracil ( 5-fu ) , and leucovorin ( tpfl5'], ['tpfl5'], ['intrathecal sufentanil'], ['lamotrigine ( ltg )'], ['ltg'], ['ltg'], ['omega3 fatty acids'], ['omega3 fatty acids'], ['omega3 fatty acids'], ['thrombolytic therapy , beta blockers , and aspirin'], ['fluvastatin 40 mg daily'], ['dha-concentrated fish oil capsules_hlk427554600 ( 2.2 g of dha and 0.6 g of'], ['botulinum toxin injection , pneumatic dilation , and laparoscopic myotomy'], ['therapeutic hysteroscopy'], ['gene therapy'], ['chinese herbal'], ['interferon alpha2b plus ribavirin'], ['low-molecular-weight heparin'], ['tubularized incised plate hypospadias repair'], ['radical prostatectomy', 'iodine 125 interstitial radiotherapy'], ['acupuncture'], ['correction of cardiac defects through a right thoracotomy'], ['mesh repair'], ['immunotherapy of tumors with autologous tumor-derived heat shock protein preparations'], ['modified diet'], ['glatiramer acetate ( copaxone )'], ['hydroxyurea'], ['antibiotics'], ['steroid delivery'], [\"haematoma block versus intravenous regional anaesthesia in colles ' fractures\"], ['direct percutaneous transluminal angioplasty'], ['magnesium sulphate'], ['atrioventricular junction ablation and vvir pacemaker versus pharmacological treatment'], ['repair of ventral hernias with expanded polytetrafluoroethylene patch'], ['spinal manipulation'], ['lamivudine'], ['primary angioplasty'], ['chemotherapy'], ['plasma exchange and tacrolimus-mycophenolate rescue'], ['hyperbaric oxygen therapy'], ['endoscopic excision'], ['photodynamic therapy'], ['conservative surgery for tubal pregnancy'], ['laparoscopic cornuostomy'], ['recombinant prourokinase and its immobilized forms'], ['adenosine triphosphate', 'buthionine sulfoximine'], ['transpupillary thermotherapy'], ['phytogenic drugs'], ['trembling poplar , true goldenrod , and ash'], [\"south african devil 's claw ( harpagophytum procumbens dc )\"], ['percutaneous transhepatic biliary drainage and cholangioscopy'], ['ileocolonic anastomotic recurrence'], ['nerve-sparing surgery'], ['preoperative radiotherapy and surgery'], ['current surgical therapy'], ['thoracic surgery'], ['surgical treatment of postpneumonic empyema'], ['thoracoscopic surgery'], ['thoracoscopic surgery'], ['surgery'], ['transabdominal extensive esophagogastric devascularization with gastroesophageal stapling'], ['surgical treatment for lung hydatid disease'], ['sliding door technique for the repair of midline incisional hernias'], ['one-lung ventilation'], ['thoracoscopy'], ['asthma'], [''], ['adrenal-sparing surgery'], ['antiplatelet therapy'], ['q-switched nd-yag laser'], ['thoracoscopic operation for secondary pneumothorax'], ['troglitazone'], ['modified technique of tubeless anaesthesia for microlaryngoscopy and bronchoscopy in young children with stridor'], ['lactobacillus acidophilus bg2fo4'], ['intravenous immunoglobulin'], ['azithromycin'], ['excimer laser assisted in situ keratomileusis'], ['recombinant interferon alfa-2a'], ['interferon'], ['recombinant interferon alpha'], ['antimicrobial treatment options in the management of odontogenic infections'], ['induction chemotherapy with docetaxel , cisplatin , fluorouracil , and leucovorin'], ['low-dose steroids'], ['epidural neostigmine'], ['lamotrigine monotherapy'], ['5-fluorouracil , leucovorin , oxaliplatin and surgery'], ['laparoscopic ventral hernia repair'], ['aspirin monotherapy'], ['intraarterial lytic therapy'], ['gene therapy'], ['dipyridamole plus aspirin'], ['cd40'], ['daunorubicin-containing liposomes'], ['gene therapy'], ['acid suppression therapy'], ['surgical approaches to pediatric defecatory disorders'], ['lutein'], ['colchicine'], ['ippb'], ['anticoagulants'], ['surgical treatment of habitual shoulder dislocation'], ['corticosteroid therapy'], ['surgical treatment of uterine cervix insufficiency during the 2d trimester of pregnancy'], ['physiologic treatment of depressive'], ['quinidine sulphate'], ['synergism in the chemotherapy of eimeria infections of chicks'], ['sclerosing injections of quinine and urea chlorhydrolactate in a 30 per cent solution'], ['single-place caisson'], ['blood volume measurements in burn therapy'], ['surgery'], ['heparin'], ['clomiphene citrate'], ['methyldopa'], ['chemotherapy'], ['interferon-alpha-2b'], ['thalidomide'], ['aspirin'], ['pancreas-/kidney transplantation'], ['corticosteroid injections'], ['flutamide plus castration'], ['electrical nerve stimulation and electrical muscle stimulation'], ['low-dose irradiation'], ['drug therapy for coronary heart disease'], ['percutaneous drainage of hydatid cysts'], ['surgery'], ['high-dose chemotherapy with autologous hematopoietic stem-cell support'], ['radiotherapy', 'chemotherapy'], ['high-dose therapy'], ['anal continence after surgery for rectal prolapse'], ['aspirin'], ['amoxicillin/clavulanate'], ['ampicillin-sulbactam'], ['new therapies for severe meningococcal disease'], ['troglitazone'], ['psychological therapy'], ['antiretroviral agents'], ['long-acting octreotide ( sandostatin-lar )'], ['abvd and mopp/abv'], ['paclitaxel'], ['montelukast'], ['atypical antipsychotic agents'], ['percutaneous transluminal angioplasty'], ['esophageal intubation for palliative treatment in advanced carcinoma of the esophagus and cardia'], ['neoadjuvant androgen deprivation therapy in combination with radical prostatectomy'], ['surgery for peptic ulceration'], ['noninvasive positive-pressure ventilation', 'conventional mechanical ventilation'], ['deferiprone'], ['positron emission tomography'], ['gore-tex patch'], ['rectal diazepam gel'], ['salmeterol'], ['cyclophosphamide , epirubicin , and fluorouracil chemotherapy'], ['low-molecular-weight heparins'], ['watchful waiting'], ['antipsychotic medication'], ['ida-flag ( idarubicin , fludarabine , cytarabine , g-csf )'], ['single or double lung transplantation'], ['interferon beta'], ['transperineal sonography-guided iodine-125 brachytherapy with or without 45-gray external beam irradiation'], ['partial or near total pancreatectomy'], ['radical prostatectomy for prostate the perineal approach'], ['open capsulorrhaphy with suture anchors for recurrent anterior dislocation of the shoulder'], ['intravenous immunoglobulin'], ['irinotecan', 'fluorouracil'], ['intraocular pressure reduction'], ['thrombolytic treatment'], ['lignocaine or bupivacaine'], ['steroids'], ['steroids'], ['antibiotics'], ['immobilisation'], ['stereotactic radiosurgery'], ['anticytokine therapy'], ['dantrolene sodium'], ['hematopoietic stem-cell transplantation'], ['low-dose clozapine'], ['fluoxetine', 'venlafaxine'], ['interferon'], ['hyperbaric oxygen therapy'], ['peripheral retinal cryotherapy for postvitrectomy diabetic vitreous hemorrhage in phakic patients'], ['hyperbaric or normobaric oxygen'], ['vigabatrin ( sabril )'], ['matrix metalloproteinase inhibitors'], ['high dose cyclophosphamide'], ['microsurgical treatment of supratentorial cavernous malformations'], ['microsurgical treatment of infratentorial malformations'], ['stereotactic radiosurgery'], ['interferon-antibodies and the breakthrough phenomenon during ribavirin/interferon-alpha combination therapy and interferon-alpha monotherapy of patients with chronic hepatitis c'], ['argon plasma coagulation with acid suppression'], ['transmural drainage of pancreatic fluid collections without electrocautery using the seldinger technique'], ['ethanol septal reduction'], ['gh effect of substitutive gh therapy'], ['medical treatments for balding in men'], ['hyperbaric metabolic acidosis'], ['medication received by patients with depression following the acute adequacy and relation to outcome'], ['splenectomy'], ['melatonin'], ['cj-11 , 974'], ['cataract surgery'], ['arthroscopic treatment of temporomandibular joint arthropathy'], ['neostigmine'], ['botulinum toxin and nitroglycerin ointment'], ['surgical management of severe secondary peritonitis'], ['early surgical treatment for supratentorial intracerebral a'], ['clomipramine'], ['zanamivir'], ['biologic markers'], ['ascorbic acid'], ['intubation and continuous intraluminal irrigation'], ['open-bite treatment with the thera-spoon'], ['hepatic arterial infusion of chemotherapy after resection of hepatic metastases from colorectal cancer'], ['definitive trial of hepatic arterial chemotherapy for colorectal cancer'], ['cisplatin', 'paclitaxel'], ['permethrin'], ['colonoscopy'], ['dopamine agonist'], ['low-molecular-weight heparin'], ['radiotherapy'], ['methadone maintenance vs 180-day psychosocially enriched detoxification for treatment of opioid dependence'], ['cryogen spray cooling during yag laser treatment of hemangiomas'], ['gene therapy'], ['dry powdered formoterol , twice a day', 'aerosolized salbutamol , four times a day'], ['celecoxib'], ['mesh plug repair and groin hernia surgery'], ['brimonidine tartrate 0.2 % twice vs timolol 0.5 % twice daily'], ['ticarcillin/clavulanate versus imipenem/cilistatin'], ['antithrombotic therapy'], ['warfarin'], ['antiplatelet therapy'], ['fluoroquinolones'], ['laser-thermal comparison with balloon angioplasty'], ['high-dose chemotherapy with autologous stem-cell support'], ['pelvic floor stimulation'], ['chronic vagus nerve stimulation'], ['tandem high-dose chemoradiotherapy with autologous stem-cell support'], ['pneumatic compression pumps'], ['special pressure-reducing support surfaces'], ['intravenous immune globulin'], ['external counterpulsation'], ['intra-articular hyaluronan injections']]\n"
     ]
    }
   ],
   "source": [
    "rsp_dis = []\n",
    "rsp_treat = []\n",
    "rsp=[]\n",
    "\n",
    "#Collect the result from the GPT3 response\n",
    "for file in response:\n",
    "    rsp.append(file[\"choices\"][0]['text'].lower())\n",
    "\n",
    "#Making the strings comparable.\n",
    "for cur in rsp:\n",
    "    if cur.startswith(\" \"):\n",
    "        cur = cur[1:]\n",
    "\n",
    "    tmp = cur.splitlines()\n",
    "    tmp_dis = tmp[0]\n",
    "    tmp_treat = tmp[1].replace('treatment: ','')\n",
    "\n",
    "    rsp_dis.append(tmp_dis.split(\" ; \"))\n",
    "    rsp_treat.append(tmp_treat.split(\" ; \"))"
   ],
   "metadata": {
    "collapsed": false,
    "pycharm": {
     "name": "#%% Simple Post-Processing\n"
    }
   }
  },
  {
   "cell_type": "code",
   "execution_count": 745,
   "outputs": [],
   "source": [
    "### Determines whether the strings are identical or not\n",
    "def determinator(kk, rsp_t_or_d, real_t_or_d, tmp):\n",
    "    if collections.Counter(rsp_t_or_d[kk]) != collections.Counter(real_t_or_d[kk]):\n",
    "        tmp.append(False)\n",
    "    else:\n",
    "        tmp.append(True)\n",
    "    if kk+1 == len(rsp_t_or_d):\n",
    "        for k in range(len(real_t_or_d) - (kk+1)):\n",
    "            tmp.append(False)\n",
    "        return True\n",
    "    return False\n",
    "\n",
    "###  Iterates every response to be evaluated\n",
    "def exact_wording(flag):\n",
    "    for n in range(len(rsp)): #l > 5\n",
    "        tmp_t =[]\n",
    "        tmp_d =[]\n",
    "\n",
    "        for kk in range(len(real_dis[n+5])):\n",
    "            if determinator(kk, rsp_dis[n], real_dis[n+5], tmp_d):\n",
    "                break\n",
    "\n",
    "        for kk in range(len(real_treat[n+5])):\n",
    "            if determinator(kk, rsp_treat[n], real_treat[n+5], tmp_t):\n",
    "                break\n",
    "\n",
    "        flag.append([tmp_d, tmp_t])\n",
    "\n",
    "### Evaluates the accuracy comparing each solution with in the response string with the dataset.\n",
    "def correct_evaluation():\n",
    "    flag=[]\n",
    "    exact_wording(flag)\n",
    "\n",
    "    t_count = 0\n",
    "    f_count = 0\n",
    "\n",
    "    for row in flag:\n",
    "        for set in row:\n",
    "            for val in set:\n",
    "                if val:\n",
    "                    t_count += 1\n",
    "                else:\n",
    "                    f_count += 1\n",
    "\n",
    "    print(\"Ratio wording (True, False): \", t_count, f_count)\n",
    "    return t_count/(t_count+f_count)\n",
    "\n",
    "### Evaluates the accuracy comparing the response string with the dataset string\n",
    "def correct_solution():\n",
    "    flag=[]\n",
    "    exact_wording(flag)\n",
    "    count = 0\n",
    "\n",
    "    for row in flag:\n",
    "        switch = False\n",
    "        for set in row:\n",
    "            for val in set:\n",
    "                if not val:\n",
    "                    switch=True\n",
    "        if not switch:\n",
    "            count+=1\n",
    "\n",
    "    print(\"Ratio Solution: \", count, len(flag))\n",
    "    return count/len(flag)"
   ],
   "metadata": {
    "collapsed": false,
    "pycharm": {
     "name": "#%% Functions for Post Processing\n"
    }
   }
  },
  {
   "cell_type": "code",
   "execution_count": 753,
   "outputs": [],
   "source": [
    "### Splits treatments and diseases solutions on \"or\"\n",
    "def rough(rsp_t_or_d):\n",
    "    new_rsp = []\n",
    "\n",
    "    for row in rsp_t_or_d:\n",
    "        new_row = []\n",
    "        for val in row:\n",
    "            for each in val.split(\" or \"):\n",
    "                new_row.append(each)\n",
    "        new_rsp.append(new_row)\n",
    "\n",
    "    return new_rsp\n",
    "\n",
    "###  Iterates every response to be evaluated\n",
    "def rough_wording(flag):\n",
    "    rough_rsp_dis = rough(rsp_dis)\n",
    "    rough_rsp_treat = rough(rsp_treat)\n",
    "\n",
    "    for n in range(len(rsp)):\n",
    "        tmp_t =[]\n",
    "        tmp_d =[]\n",
    "\n",
    "        for kk in range(len(real_dis[n+5])):\n",
    "            if determinator(kk, rough_rsp_dis[n], real_dis[n+5], tmp_d):\n",
    "                break\n",
    "\n",
    "        for kk in range(len(real_treat[n+5])):\n",
    "            if determinator(kk, rough_rsp_treat[n], real_treat[n+5], tmp_t):\n",
    "                break\n",
    "\n",
    "        flag.append([tmp_d, tmp_t])\n",
    "\n",
    "### Evaluates the accuracy comparing each further post-processed solution with in the response string with the dataset.\n",
    "def rough_evaluation():\n",
    "    flag=[]\n",
    "    rough_wording(flag)\n",
    "\n",
    "    t_count = 0\n",
    "    f_count = 0\n",
    "\n",
    "    for row in flag:\n",
    "        for set in row:\n",
    "            for val in set:\n",
    "                if val:\n",
    "                    t_count += 1\n",
    "                else:\n",
    "                    f_count += 1\n",
    "    print(\"Ratio wording (True, False): \", t_count, f_count)\n",
    "    return t_count/(t_count+f_count)\n",
    "\n",
    "### Evaluates the accuracy comparing the further post-proccessed response string with the dataset string\n",
    "def rough_solution():\n",
    "    flag=[]\n",
    "    rough_wording(flag)\n",
    "    count = 0\n",
    "\n",
    "    for row in flag:\n",
    "        switch = False\n",
    "        for set in row:\n",
    "            for val in set:\n",
    "                if not val:\n",
    "                    switch=True\n",
    "        if not switch:\n",
    "            count+=1\n",
    "    print(\"Ratio Rough Solution: \", count, len(flag))\n",
    "    return count/len(flag)"
   ],
   "metadata": {
    "collapsed": false,
    "pycharm": {
     "name": "#%% Further functions for in-depth analysis\n"
    }
   }
  },
  {
   "cell_type": "code",
   "execution_count": 751,
   "outputs": [
    {
     "name": "stdout",
     "output_type": "stream",
     "text": [
      "------------------\n",
      "Ratio Solution:  300 824\n",
      "------------------\n",
      "Ratio wording (True, False):  1041 798\n",
      "------------------\n",
      "Ratio Rough Solution:  301 824\n",
      "------------------\n",
      "Ratio wording (True, False):  1047 792\n"
     ]
    }
   ],
   "source": [
    "print(\"------------------\")\n",
    "c_s=correct_solution()\n",
    "\n",
    "print(\"------------------\")\n",
    "o_e_w=correct_evaluation()\n",
    "\n",
    "print(\"------------------\")\n",
    "r_s=rough_solution()\n",
    "\n",
    "print(\"------------------\")\n",
    "r_w=rough_evaluation()"
   ],
   "metadata": {
    "collapsed": false,
    "pycharm": {
     "name": "#%% Results\n"
    }
   }
  },
  {
   "cell_type": "code",
   "execution_count": 750,
   "outputs": [
    {
     "name": "stdout",
     "output_type": "stream",
     "text": [
      "Correct_Completion - Evaluation (%):  36.407766990291265 %\n",
      "Overall_exact_wording - Evaluation (%):  56.6068515497553 %\n",
      "Rough_Completion - Evaluation (%):  36.529126213592235 %\n",
      "Rough_wording - Evaluation (%):  56.933115823817296 %\n"
     ]
    }
   ],
   "source": [
    "print(\"Correct_Completion - Evaluation (%): \",c_s*100, \"%\")\n",
    "\n",
    "print(\"Correct_wording - Evaluation (%): \",o_e_w*100, \"%\")\n",
    "\n",
    "print(\"Rough_Completion - Evaluation (%): \",r_s*100, \"%\")\n",
    "\n",
    "print(\"Rough_wording - Evaluation (%): \",r_w*100, \"%\")"
   ],
   "metadata": {
    "collapsed": false,
    "pycharm": {
     "name": "#%%\n"
    }
   }
  }
 ],
 "metadata": {
  "kernelspec": {
   "display_name": "Python 3",
   "language": "python",
   "name": "python3"
  },
  "language_info": {
   "codemirror_mode": {
    "name": "ipython",
    "version": 2
   },
   "file_extension": ".py",
   "mimetype": "text/x-python",
   "name": "python",
   "nbconvert_exporter": "python",
   "pygments_lexer": "ipython2",
   "version": "2.7.6"
  }
 },
 "nbformat": 4,
 "nbformat_minor": 0
}